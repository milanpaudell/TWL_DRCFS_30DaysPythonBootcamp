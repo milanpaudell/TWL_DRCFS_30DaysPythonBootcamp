{
 "cells": [
  {
   "cell_type": "code",
   "execution_count": null,
   "metadata": {},
   "outputs": [],
   "source": []
  }
 ],
 "metadata": {
  "kernelspec": {
   "display_name": "Python 3.10.8 64-bit",
   "language": "python",
   "name": "python3"
  },
  "language_info": {
   "name": "python",
   "version": "3.10.8"
  },
  "orig_nbformat": 4,
  "vscode": {
   "interpreter": {
    "hash": "b6831fdcc8d1dbdf229dbca682f9bfb4c7cd4f79f05ee82647bfdfb313ccbe3c"
   }
  }
 },
 "nbformat": 4,
 "nbformat_minor": 2
}
