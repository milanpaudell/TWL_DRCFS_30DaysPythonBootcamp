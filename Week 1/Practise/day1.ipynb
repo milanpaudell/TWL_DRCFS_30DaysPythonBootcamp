{
 "cells": [
  {
   "cell_type": "code",
   "execution_count": 1,
   "metadata": {},
   "outputs": [
    {
     "name": "stdout",
     "output_type": "stream",
     "text": [
      "Hello World\n"
     ]
    }
   ],
   "source": [
    "print(\"Hello World\")"
   ]
  },
  {
   "cell_type": "markdown",
   "metadata": {},
   "source": [
    "Input and Variable"
   ]
  },
  {
   "cell_type": "code",
   "execution_count": 5,
   "metadata": {},
   "outputs": [
    {
     "name": "stdout",
     "output_type": "stream",
     "text": [
      "Your name is:Milan\n"
     ]
    }
   ],
   "source": [
    "name = input (\"What is your name?\")\n",
    "print(\"Your name is:\" + name)"
   ]
  },
  {
   "cell_type": "markdown",
   "metadata": {},
   "source": [
    "## Basic Data Types\n",
    "1. Int -> Integer\n",
    "2. Str -> String\n",
    "3. Float -> Float\n",
    "4. None -> Null\n",
    "5. Bool -> Boolean (True, False)"
   ]
  },
  {
   "cell_type": "code",
   "execution_count": 1,
   "metadata": {},
   "outputs": [
    {
     "name": "stdout",
     "output_type": "stream",
     "text": [
      "<class 'int'>\n"
     ]
    }
   ],
   "source": [
    "integer = 1\n",
    "# print(integer)\n",
    "print(type(integer))"
   ]
  },
  {
   "cell_type": "code",
   "execution_count": 3,
   "metadata": {},
   "outputs": [
    {
     "name": "stdout",
     "output_type": "stream",
     "text": [
      "<class 'str'>\n"
     ]
    }
   ],
   "source": [
    "string = \"Milan\"\n",
    "print(type(string))"
   ]
  },
  {
   "cell_type": "code",
   "execution_count": 4,
   "metadata": {},
   "outputs": [
    {
     "name": "stdout",
     "output_type": "stream",
     "text": [
      "<class 'float'>\n"
     ]
    }
   ],
   "source": [
    "float = 0.1\n",
    "print(type(float))"
   ]
  },
  {
   "cell_type": "code",
   "execution_count": 11,
   "metadata": {},
   "outputs": [
    {
     "name": "stdout",
     "output_type": "stream",
     "text": [
      "Your age is  26\n"
     ]
    }
   ],
   "source": [
    "age = input(\"What is your age\")\n",
    "age = int(age)\n",
    "print(\"Your age is \", age)"
   ]
  },
  {
   "cell_type": "markdown",
   "metadata": {},
   "source": [
    "## Control flow Statements"
   ]
  },
  {
   "cell_type": "markdown",
   "metadata": {},
   "source": [
    "For driving license\n",
    "1. Input user's age\n",
    "2. Convert user's age to integer\n",
    "3. Check if user is older than 16 years old.\n",
    "4. If user older, show he is eligible else show he is not eligible."
   ]
  },
  {
   "cell_type": "code",
   "execution_count": 12,
   "metadata": {},
   "outputs": [
    {
     "name": "stdout",
     "output_type": "stream",
     "text": [
      "You are old enough to drive a bike\n"
     ]
    }
   ],
   "source": [
    "# Get user's age\n",
    "age_str = input(\"What is your age\")\n",
    "\n",
    "# Convert string to integer\n",
    "age = int(age_str)\n",
    "\n",
    "# Compare user's age\n",
    "if age >= 16:\n",
    "    print(\"You are old enough to drive a bike\")\n",
    "else:\n",
    "    print(\"You are not old enough to drive a bike\")"
   ]
  },
  {
   "cell_type": "code",
   "execution_count": 4,
   "metadata": {},
   "outputs": [
    {
     "name": "stdout",
     "output_type": "stream",
     "text": [
      "Login Successful\n"
     ]
    }
   ],
   "source": [
    "# Login System\n",
    "username = input(\"Enter your username\")\n",
    "password = input(\"Enter your password\")\n",
    "\n",
    "# username == 'duck' and password == 'passw0rd'\n",
    "if username == 'duck' and password == 'passw0rd':\n",
    "    print(\"welcome duck\")\n",
    "elif username == 'milan' and password == '12345':\n",
    "    print(\"Login Successful\")\n",
    "else: \n",
    "    print(\"invalid username or password\")\n"
   ]
  },
  {
   "cell_type": "markdown",
   "metadata": {},
   "source": [
    "## Looping Statements\n",
    "#### Types of looping statements\n",
    "1. For loops\n",
    "2. While loops"
   ]
  },
  {
   "cell_type": "code",
   "execution_count": 6,
   "metadata": {},
   "outputs": [
    {
     "name": "stdout",
     "output_type": "stream",
     "text": [
      "0\n",
      "1\n",
      "2\n",
      "3\n",
      "4\n",
      "5\n",
      "6\n",
      "7\n",
      "8\n",
      "9\n"
     ]
    }
   ],
   "source": [
    "# For Loop\n",
    "\n",
    "for i in range(10): #for i in range(1,11):(print from 1 to 10)\n",
    "    print(i)"
   ]
  },
  {
   "cell_type": "code",
   "execution_count": 9,
   "metadata": {},
   "outputs": [
    {
     "name": "stdout",
     "output_type": "stream",
     "text": [
      "0 is even\n",
      "1 is odd\n",
      "2 is even\n",
      "3 is odd\n",
      "4 is even\n",
      "5 is odd\n",
      "6 is even\n",
      "7 is odd\n",
      "8 is even\n",
      "9 is odd\n"
     ]
    }
   ],
   "source": [
    "# For loop\n",
    "# Odd Even\n",
    "\n",
    "for i in range(10):\n",
    "    if i % 2 == 0:\n",
    "        print(str(i) + \" is even\") #print(i , \" is even\")\n",
    "    else:\n",
    "        print(str(i) + \" is odd\") #print(i , \" is odd\")"
   ]
  },
  {
   "cell_type": "code",
   "execution_count": null,
   "metadata": {},
   "outputs": [],
   "source": [
    "print(\"Hello Milan, hopefully you are enjoying this session\")\n",
    "print(\"Hello Milan, hopefully you are enjoying this session\")\n",
    "print(\"Hello Milan, hopefully you are enjoying this session\")"
   ]
  },
  {
   "cell_type": "code",
   "execution_count": 10,
   "metadata": {},
   "outputs": [
    {
     "name": "stdout",
     "output_type": "stream",
     "text": [
      "10\n",
      "9\n",
      "8\n",
      "7\n",
      "6\n",
      "5\n",
      "4\n",
      "3\n",
      "2\n"
     ]
    }
   ],
   "source": [
    "# For loop\n",
    "\n",
    "for i in range(10,1,-1):\n",
    "    print(i)"
   ]
  },
  {
   "cell_type": "markdown",
   "metadata": {},
   "source": [
    "Range Function\n",
    "1. range(10) -> 0,1,..,9\n",
    "2. range(1,11) -> 1,2,...,10\n",
    "3. range(10,1,-1) -> 10,9,..,2"
   ]
  }
 ],
 "metadata": {
  "kernelspec": {
   "display_name": "Python 3.10.8 64-bit",
   "language": "python",
   "name": "python3"
  },
  "language_info": {
   "codemirror_mode": {
    "name": "ipython",
    "version": 3
   },
   "file_extension": ".py",
   "mimetype": "text/x-python",
   "name": "python",
   "nbconvert_exporter": "python",
   "pygments_lexer": "ipython3",
   "version": "3.10.8"
  },
  "orig_nbformat": 4,
  "vscode": {
   "interpreter": {
    "hash": "b6831fdcc8d1dbdf229dbca682f9bfb4c7cd4f79f05ee82647bfdfb313ccbe3c"
   }
  }
 },
 "nbformat": 4,
 "nbformat_minor": 2
}
